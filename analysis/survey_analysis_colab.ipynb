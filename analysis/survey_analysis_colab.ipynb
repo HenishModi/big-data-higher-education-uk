
# Advanced Data Analysis - Google Colab

## Step 1: Import Libraries
import pandas as pd
import seaborn as sns
import matplotlib.pyplot as plt

# Load data
df = pd.read_csv('/content/survey_results_full.csv')

# Summary stats
print(df.describe())

# Correlation heatmap
plt.figure(figsize=(6,4))
sns.heatmap(df[['big_data_usage_rating','faculty_interaction_rating','career_dev_rating']].corr(), annot=True)
plt.title('Correlation Matrix')
plt.show()

# Grouped boxplot
plt.figure(figsize=(8,4))
sns.boxplot(x='education_level', y='career_dev_rating', data=df)
plt.title('Career Development Rating by Education Level')
plt.xticks(rotation=45)
plt.show()
